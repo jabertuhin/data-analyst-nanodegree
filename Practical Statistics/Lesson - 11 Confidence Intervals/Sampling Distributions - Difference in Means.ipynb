{
 "cells": [
  {
   "cell_type": "markdown",
   "metadata": {},
   "source": [
    "### Confidence Interval - Difference In Means\n",
    "\n",
    "Here you will look through the example from the last video, but you will also go a couple of steps further into what might actually be going on with this data."
   ]
  },
  {
   "cell_type": "code",
   "execution_count": 2,
   "metadata": {},
   "outputs": [],
   "source": [
    "import pandas as pd\n",
    "import numpy as np\n",
    "import matplotlib.pyplot as plt\n",
    "\n",
    "%matplotlib inline\n",
    "np.random.seed(42)\n",
    "\n",
    "full_data = pd.read_csv('coffee_dataset.csv')\n",
    "sample_data = full_data.sample(200)"
   ]
  },
  {
   "cell_type": "code",
   "execution_count": 3,
   "metadata": {},
   "outputs": [
    {
     "data": {
      "text/html": [
       "<div>\n",
       "<style scoped>\n",
       "    .dataframe tbody tr th:only-of-type {\n",
       "        vertical-align: middle;\n",
       "    }\n",
       "\n",
       "    .dataframe tbody tr th {\n",
       "        vertical-align: top;\n",
       "    }\n",
       "\n",
       "    .dataframe thead th {\n",
       "        text-align: right;\n",
       "    }\n",
       "</style>\n",
       "<table border=\"1\" class=\"dataframe\">\n",
       "  <thead>\n",
       "    <tr style=\"text-align: right;\">\n",
       "      <th></th>\n",
       "      <th>user_id</th>\n",
       "      <th>age</th>\n",
       "      <th>drinks_coffee</th>\n",
       "      <th>height</th>\n",
       "    </tr>\n",
       "  </thead>\n",
       "  <tbody>\n",
       "    <tr>\n",
       "      <th>2402</th>\n",
       "      <td>2874</td>\n",
       "      <td>&lt;21</td>\n",
       "      <td>True</td>\n",
       "      <td>64.357154</td>\n",
       "    </tr>\n",
       "    <tr>\n",
       "      <th>2864</th>\n",
       "      <td>3670</td>\n",
       "      <td>&gt;=21</td>\n",
       "      <td>True</td>\n",
       "      <td>66.859636</td>\n",
       "    </tr>\n",
       "    <tr>\n",
       "      <th>2167</th>\n",
       "      <td>7441</td>\n",
       "      <td>&lt;21</td>\n",
       "      <td>False</td>\n",
       "      <td>66.659561</td>\n",
       "    </tr>\n",
       "    <tr>\n",
       "      <th>507</th>\n",
       "      <td>2781</td>\n",
       "      <td>&gt;=21</td>\n",
       "      <td>True</td>\n",
       "      <td>70.166241</td>\n",
       "    </tr>\n",
       "    <tr>\n",
       "      <th>1817</th>\n",
       "      <td>2875</td>\n",
       "      <td>&gt;=21</td>\n",
       "      <td>True</td>\n",
       "      <td>71.369120</td>\n",
       "    </tr>\n",
       "  </tbody>\n",
       "</table>\n",
       "</div>"
      ],
      "text/plain": [
       "      user_id   age  drinks_coffee     height\n",
       "2402     2874   <21           True  64.357154\n",
       "2864     3670  >=21           True  66.859636\n",
       "2167     7441   <21          False  66.659561\n",
       "507      2781  >=21           True  70.166241\n",
       "1817     2875  >=21           True  71.369120"
      ]
     },
     "execution_count": 3,
     "metadata": {},
     "output_type": "execute_result"
    }
   ],
   "source": [
    "sample_data.head()"
   ]
  },
  {
   "cell_type": "markdown",
   "metadata": {},
   "source": [
    "`1.` For 10,000 iterations, bootstrap sample your sample data, compute the difference in the average heights for coffee and non-coffee drinkers.  Build a 99% confidence interval using your sampling distribution.  Use your interval to start answering the first quiz question below."
   ]
  },
  {
   "cell_type": "code",
   "execution_count": 5,
   "metadata": {},
   "outputs": [
    {
     "data": {
      "image/png": "[encoded data removed]",
      "text/plain": [
       "<matplotlib.figure.Figure at 0x7fcadde014a8>"
      ]
     },
     "metadata": {
      "needs_background": "light"
     },
     "output_type": "display_data"
    }
   ],
   "source": [
    "diff_avg_height = []\n",
    "\n",
    "for i in range(10000):\n",
    "    bootstrap_sample_data = sample_data.sample(200, replace=True)\n",
    "    coffee_drinkers_height = bootstrap_sample_data[bootstrap_sample_data[\"drinks_coffee\"]==True][\"height\"].mean()\n",
    "    non_coffee_drinkers_height = bootstrap_sample_data[bootstrap_sample_data[\"drinks_coffee\"]==False][\"height\"].mean()\n",
    "    diff_height = abs(coffee_drinkers_height - non_coffee_drinkers_height)\n",
    "    \n",
    "    diff_avg_height.append(diff_height)\n",
    "    \n",
    "plt.hist(diff_avg_height);"
   ]
  },
  {
   "cell_type": "code",
   "execution_count": 6,
   "metadata": {},
   "outputs": [
    {
     "data": {
      "text/plain": [
       "(0.14511038326333725, 2.5164909371295865)"
      ]
     },
     "execution_count": 6,
     "metadata": {},
     "output_type": "execute_result"
    }
   ],
   "source": [
    "np.percentile(diff_avg_height, 0.5), np.percentile(diff_avg_height, 99.5)"
   ]
  },
  {
   "cell_type": "markdown",
   "metadata": {},
   "source": [
    "`2.` For 10,000 iterations, bootstrap sample your sample data, compute the difference in the average heights for those older than 21 and those younger than 21.  Build a 99% confidence interval using your sampling distribution.  Use your interval to finish answering the first quiz question below.  "
   ]
  },
  {
   "cell_type": "code",
   "execution_count": 12,
   "metadata": {},
   "outputs": [
    {
     "data": {
      "image/png": "[encoded data removed]",
      "text/plain": [
       "<matplotlib.figure.Figure at 0x7fcadff01048>"
      ]
     },
     "metadata": {
      "needs_background": "light"
     },
     "output_type": "display_data"
    }
   ],
   "source": [
    "diff_avg_height = []\n",
    "\n",
    "for _ in range(10000):\n",
    "    bootstrap_sample_data = sample_data.sample(200, replace=True)\n",
    "    avg_height_older = bootstrap_sample_data[bootstrap_sample_data[\"age\"]== '>=21'][\"height\"].mean()\n",
    "    avg_height_younger = bootstrap_sample_data[bootstrap_sample_data[\"age\"]== '<21'][\"height\"].mean()\n",
    "    \n",
    "    diff = abs(avg_height_older - avg_height_younger)\n",
    "    diff_avg_height.append(diff)\n",
    "    \n",
    "plt.hist(diff_avg_height);"
   ]
  },
  {
   "cell_type": "code",
   "execution_count": 13,
   "metadata": {},
   "outputs": [
    {
     "data": {
      "text/plain": [
       "(3.3667113781707676, 5.1321276562621989)"
      ]
     },
     "execution_count": 13,
     "metadata": {},
     "output_type": "execute_result"
    }
   ],
   "source": [
    "np.percentile(diff_avg_height, 0.5), np.percentile(diff_avg_height, 99.5)"
   ]
  },
  {
   "cell_type": "markdown",
   "metadata": {},
   "source": [
    "`3.` For 10,000 iterations bootstrap your sample data, compute the **difference** in the average height for coffee drinkers and the average height for non-coffee drinkers for individuals **under** 21 years old.  Using your sampling distribution, build a 95% confidence interval.  Use your interval to start answering question 2 below."
   ]
  },
  {
   "cell_type": "code",
   "execution_count": 15,
   "metadata": {},
   "outputs": [
    {
     "name": "stdout",
     "output_type": "stream",
     "text": [
      "1.085481011 2.58967896201\n"
     ]
    }
   ],
   "source": [
    "diff_avg_height = []\n",
    "\n",
    "for _ in range(10000):\n",
    "    bootstrap_sample_data = sample_data.sample(200, replace=True)\n",
    "    younger_sample_data = bootstrap_sample_data[bootstrap_sample_data[\"age\"]== '<21']\n",
    "    avg_height_coffee = younger_sample_data[younger_sample_data[\"drinks_coffee\"] == True][\"height\"].mean()\n",
    "    avg_height_non_coffee = younger_sample_data[younger_sample_data[\"drinks_coffee\"] == False][\"height\"].mean()\n",
    "    \n",
    "    diff = abs(avg_height_coffee - avg_height_non_coffee)\n",
    "    diff_avg_height.append(diff)\n",
    "    \n",
    "print(np.percentile(diff_avg_height, 2.5), np.percentile(diff_avg_height, 97.5))"
   ]
  },
  {
   "cell_type": "markdown",
   "metadata": {},
   "source": [
    "`4.` For 10,000 iterations bootstrap your sample data, compute the **difference** in the average height for coffee drinkers and the average height for non-coffee drinkers for individuals **over** 21 years old.  Using your sampling distribution, build a 95% confidence interval. Use your interval to finish answering the second quiz question below. As well as the following questions. "
   ]
  },
  {
   "cell_type": "code",
   "execution_count": 17,
   "metadata": {},
   "outputs": [
    {
     "name": "stdout",
     "output_type": "stream",
     "text": [
      "1.8285955382 4.38058142574\n"
     ]
    }
   ],
   "source": [
    "diff_avg_height = []\n",
    "\n",
    "for _ in range(10000):\n",
    "    bootstrap_sample_data = sample_data.sample(200, replace=True)\n",
    "    older_sample_data = bootstrap_sample_data[bootstrap_sample_data[\"age\"]== '>=21']\n",
    "    avg_height_coffee = older_sample_data[older_sample_data[\"drinks_coffee\"] == True][\"height\"].mean()\n",
    "    avg_height_non_coffee = older_sample_data[older_sample_data[\"drinks_coffee\"] == False][\"height\"].mean()\n",
    "    \n",
    "    diff = abs(avg_height_coffee - avg_height_non_coffee)\n",
    "    diff_avg_height.append(diff)\n",
    "    \n",
    "print(np.percentile(diff_avg_height, 2.5), np.percentile(diff_avg_height, 97.5))"
   ]
  }
 ],
 "metadata": {
  "kernelspec": {
   "display_name": "Python 3",
   "language": "python",
   "name": "python3"
  },
  "language_info": {
   "codemirror_mode": {
    "name": "ipython",
    "version": 3
   },
   "file_extension": ".py",
   "mimetype": "text/x-python",
   "name": "python",
   "nbconvert_exporter": "python",
   "pygments_lexer": "ipython3",
   "version": "3.6.3"
  }
 },
 "nbformat": 4,
 "nbformat_minor": 2
}
